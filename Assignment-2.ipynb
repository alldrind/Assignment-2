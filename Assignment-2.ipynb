{
 "cells": [
  {
   "cell_type": "markdown",
   "metadata": {},
   "source": [
    "# Assignment 2 - Plotting with Python"
   ]
  },
  {
   "cell_type": "code",
   "execution_count": 1,
   "metadata": {},
   "outputs": [],
   "source": [
    "import seaborn as sns\n",
    "from plotly import data\n",
    "import matplotlib.pyplot as plt"
   ]
  },
  {
   "cell_type": "markdown",
   "metadata": {},
   "source": [
    "### Matplotlib\n",
    "\n",
    "Plot all questions below using `matplotlib` library."
   ]
  },
  {
   "cell_type": "markdown",
   "metadata": {},
   "source": [
    "Make a dataframe for `iris` dataset and show first few rows."
   ]
  },
  {
   "cell_type": "code",
   "execution_count": null,
   "metadata": {},
   "outputs": [],
   "source": [
    "iris = data.iris()"
   ]
  },
  {
   "cell_type": "markdown",
   "metadata": {},
   "source": [
    "Using `iris` dataset, make a **line chart** where \n",
    "- x represents row indexes \n",
    "- y represents `sepal_length`"
   ]
  },
  {
   "cell_type": "code",
   "execution_count": null,
   "metadata": {},
   "outputs": [],
   "source": []
  },
  {
   "cell_type": "markdown",
   "metadata": {},
   "source": [
    "Using `iris` dataset, make a **scatter chart** where \n",
    "- x represents `sepal_length`\n",
    "- y represents `petal_length`"
   ]
  },
  {
   "cell_type": "code",
   "execution_count": null,
   "metadata": {
    "scrolled": false
   },
   "outputs": [],
   "source": []
  },
  {
   "cell_type": "markdown",
   "metadata": {},
   "source": [
    "Using `iris` dataset, make a **scatter chart** where \n",
    "- x represents `sepal_length`\n",
    "- y represents `petal_length`\n",
    "- add colorbar for `species_id`."
   ]
  },
  {
   "cell_type": "code",
   "execution_count": null,
   "metadata": {
    "scrolled": false
   },
   "outputs": [],
   "source": []
  },
  {
   "cell_type": "markdown",
   "metadata": {},
   "source": [
    "Using `iris` dataset, **make a figure with 2 subplots**.\n",
    "\n",
    "1. Make a **scatter chart** where \n",
    "- x represents `sepal_length`\n",
    "- y represents `sepal_width`\n",
    "- add color of `red`.\n",
    "\n",
    "2. Make a **scatter chart** where \n",
    "- x represents `petal_length`\n",
    "- y represents `petal_width`\n",
    "- add color of `red`."
   ]
  },
  {
   "cell_type": "code",
   "execution_count": null,
   "metadata": {},
   "outputs": [],
   "source": []
  },
  {
   "cell_type": "markdown",
   "metadata": {},
   "source": [
    "### Seaborn"
   ]
  },
  {
   "cell_type": "markdown",
   "metadata": {},
   "source": [
    "Using `iris` dataset: \n",
    "\n",
    "- make scatter chart\n",
    "- make jointplot\n",
    "- make boxplot\n",
    "- make violinplot\n",
    "- make swarmplot\n",
    "- make pairplot"
   ]
  },
  {
   "cell_type": "code",
   "execution_count": null,
   "metadata": {},
   "outputs": [],
   "source": []
  },
  {
   "cell_type": "markdown",
   "metadata": {},
   "source": [
    "Plot the following dataset:\n",
    "\n",
    "- make line chart\n",
    "- add a moving average"
   ]
  },
  {
   "cell_type": "code",
   "execution_count": null,
   "metadata": {},
   "outputs": [],
   "source": []
  },
  {
   "cell_type": "markdown",
   "metadata": {},
   "source": [
    "### Plotly"
   ]
  },
  {
   "cell_type": "markdown",
   "metadata": {},
   "source": [
    "Using datasets below. Make at least 3 different figures from each using plotly."
   ]
  },
  {
   "cell_type": "code",
   "execution_count": null,
   "metadata": {},
   "outputs": [],
   "source": [
    "tips = data.tips()\n",
    "carshare = data.carshare()"
   ]
  },
  {
   "cell_type": "code",
   "execution_count": null,
   "metadata": {},
   "outputs": [],
   "source": []
  },
  {
   "cell_type": "markdown",
   "metadata": {},
   "source": [
    "## References"
   ]
  },
  {
   "cell_type": "markdown",
   "metadata": {},
   "source": [
    "- https://matplotlib.org/stable/api/_as_gen/matplotlib.pyplot.scatter.html\n",
    "- https://matplotlib.org/stable/api/_as_gen/matplotlib.pyplot.plot.html\n",
    "- https://matplotlib.org/stable/api/_as_gen/matplotlib.pyplot.subplots.html\n",
    "- https://plotly.com/python/basic-charts/\n",
    "- https://seaborn.pydata.org/api.html"
   ]
  }
 ],
 "metadata": {
  "kernelspec": {
   "display_name": "Python 3",
   "language": "python",
   "name": "python3"
  },
  "language_info": {
   "codemirror_mode": {
    "name": "ipython",
    "version": 3
   },
   "file_extension": ".py",
   "mimetype": "text/x-python",
   "name": "python",
   "nbconvert_exporter": "python",
   "pygments_lexer": "ipython3",
   "version": "3.9.0"
  }
 },
 "nbformat": 4,
 "nbformat_minor": 2
}
